{
 "cells": [
  {
   "cell_type": "markdown",
   "metadata": {},
   "source": [
    "Mengimpor library yang diperlukan"
   ]
  },
  {
   "cell_type": "code",
   "execution_count": 1,
   "metadata": {},
   "outputs": [],
   "source": [
    "import pandas as pd\n",
    "import tensorflow as tf\n",
    "import requests"
   ]
  },
  {
   "cell_type": "markdown",
   "metadata": {},
   "source": [
    "Membaca data yang digunakan untuk proses pengujian model"
   ]
  },
  {
   "cell_type": "code",
   "execution_count": 2,
   "metadata": {},
   "outputs": [
    {
     "data": {
      "text/html": [
       "<div>\n",
       "<style scoped>\n",
       "    .dataframe tbody tr th:only-of-type {\n",
       "        vertical-align: middle;\n",
       "    }\n",
       "\n",
       "    .dataframe tbody tr th {\n",
       "        vertical-align: top;\n",
       "    }\n",
       "\n",
       "    .dataframe thead th {\n",
       "        text-align: right;\n",
       "    }\n",
       "</style>\n",
       "<table border=\"1\" class=\"dataframe\">\n",
       "  <thead>\n",
       "    <tr style=\"text-align: right;\">\n",
       "      <th></th>\n",
       "      <th>sentence</th>\n",
       "      <th>sentiment</th>\n",
       "    </tr>\n",
       "  </thead>\n",
       "  <tbody>\n",
       "    <tr>\n",
       "      <th>0</th>\n",
       "      <td>so there is no way for me to plug it in here i...</td>\n",
       "      <td>0</td>\n",
       "    </tr>\n",
       "    <tr>\n",
       "      <th>1</th>\n",
       "      <td>good case  excellent value</td>\n",
       "      <td>1</td>\n",
       "    </tr>\n",
       "    <tr>\n",
       "      <th>2</th>\n",
       "      <td>great for the jawbone</td>\n",
       "      <td>1</td>\n",
       "    </tr>\n",
       "    <tr>\n",
       "      <th>3</th>\n",
       "      <td>tied to charger for conversations lasting more...</td>\n",
       "      <td>0</td>\n",
       "    </tr>\n",
       "    <tr>\n",
       "      <th>4</th>\n",
       "      <td>the mic is great</td>\n",
       "      <td>1</td>\n",
       "    </tr>\n",
       "  </tbody>\n",
       "</table>\n",
       "</div>"
      ],
      "text/plain": [
       "                                            sentence  sentiment\n",
       "0  so there is no way for me to plug it in here i...          0\n",
       "1                        good case  excellent value           1\n",
       "2                             great for the jawbone           1\n",
       "3  tied to charger for conversations lasting more...          0\n",
       "4                                  the mic is great           1"
      ]
     },
     "execution_count": 2,
     "metadata": {},
     "output_type": "execute_result"
    }
   ],
   "source": [
    "depression_df = pd.read_csv(\"./data/combined_sentiment_data.csv\")\n",
    "depression_df.head()"
   ]
  },
  {
   "cell_type": "markdown",
   "metadata": {},
   "source": [
    "Membuat proses prediksi pada model. Proses ini dimulai dengan mengubah bentuk data dari csv ke dalam bentuk yang dapat diterima oleh serving model. Kemudian, data tersebut diteruskan ke model yang telah di-deploy pada Railway. Proses prediksi dilakukan pada salah satu baris data yang dipilih secara acak."
   ]
  },
  {
   "cell_type": "code",
   "execution_count": 11,
   "metadata": {},
   "outputs": [
    {
     "name": "stdout",
     "output_type": "stream",
     "text": [
      "Text: the phone was unusable and was not new \n",
      "Actual: 0\n",
      "Prediction: negatif (8.24413291e-05)\n"
     ]
    }
   ],
   "source": [
    "def create_tf_example(text):\n",
    "    feature = {\n",
    "        \"sentence\": tf.train.Feature(\n",
    "            bytes_list=tf.train.BytesList(value=[text.encode(\"utf-8\")])\n",
    "        ),\n",
    "    }\n",
    "    example_proto = tf.train.Example(features=tf.train.Features(feature=feature))\n",
    "    return example_proto.SerializeToString()\n",
    "\n",
    "\n",
    "def get_prediction(text):\n",
    "    serialized_text = create_tf_example(text)\n",
    "    base64_encoded = tf.io.encode_base64(serialized_text).numpy().decode(\"utf-8\")\n",
    "\n",
    "    url = \"https://dzulfikri-sentiment-sentence.up.railway.app/v1/models/sentence-sentiment:predict\"\n",
    "    data = {\"instances\": [{\"b64\": base64_encoded}]}\n",
    "    response = requests.post(url, json=data)\n",
    "\n",
    "    return response.json()\n",
    "\n",
    "\n",
    "random_test_text = depression_df.sample(1).iloc[0]\n",
    "prediction = get_prediction(random_test_text[\"sentence\"]).get(\"predictions\")[0]\n",
    "\n",
    "if prediction:\n",
    "    value = prediction[0]\n",
    "    result = \"positif\" if value > 0.5 else \"negatif\"\n",
    "    print(f\"Text: {random_test_text['sentence']}\")\n",
    "    print(f\"Actual: {random_test_text['sentiment']}\")\n",
    "    print(f\"Prediction: {result} ({value})\")\n",
    "else:\n",
    "    print(\"Failed to get prediction\")"
   ]
  }
 ],
 "metadata": {
  "kernelspec": {
   "display_name": ".venv",
   "language": "python",
   "name": "python3"
  },
  "language_info": {
   "codemirror_mode": {
    "name": "ipython",
    "version": 3
   },
   "file_extension": ".py",
   "mimetype": "text/x-python",
   "name": "python",
   "nbconvert_exporter": "python",
   "pygments_lexer": "ipython3",
   "version": "3.9.21"
  }
 },
 "nbformat": 4,
 "nbformat_minor": 2
}
